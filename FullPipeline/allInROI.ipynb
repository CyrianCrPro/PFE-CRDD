{
 "cells": [
  {
   "cell_type": "code",
   "execution_count": null,
   "metadata": {},
   "outputs": [],
   "source": [
    "import numpy as np\n",
    "import tensorflow as tf\n",
    "\n",
    "from tensorflow import keras\n",
    "from keras.models import load_model\n",
    "from matplotlib import pyplot as plt\n",
    "from tensorflow.keras.preprocessing import image"
   ]
  },
  {
   "cell_type": "code",
   "execution_count": null,
   "metadata": {},
   "outputs": [],
   "source": [
    "speed_mapping = {\n",
    "    0: \"20\",\n",
    "    1: \"30\",\n",
    "    2: \"50\",\n",
    "    3: \"60\",\n",
    "    4: \"70\",\n",
    "    5: \"80\",\n",
    "    6: \"End Of Limit\",\n",
    "    7: \"100\",\n",
    "    8: \"120\",\n",
    "}\n",
    "\n",
    "others_mapping = {\n",
    "    9: \"Interdiction de dépasser\",\n",
    "    10: \"interdiction de dépasser pour poids lourd\",\n",
    "    11: \"Voie prioritaire\",\n",
    "    12: \"priorité à droite\",\n",
    "    13: \"Laisser passer\",\n",
    "    14: \"Stop\",\n",
    "    15: \"Interdit au véhicules\",\n",
    "    16: \"Interdit au poids lourd\",\n",
    "    17: \"Sens interdit\",\n",
    "    18: \"Attention\",\n",
    "    19: \"Attention virage à gauche\",\n",
    "    20: \"Attention virage à droite\",\n",
    "    21: \"Succession de virage\",\n",
    "    22: \"Dos d'ane\",\n",
    "    23: \"Risque dérapage\",\n",
    "    24: \"Voie rétrécie\",\n",
    "    25: \"Attention travaux\",\n",
    "    26: \"Feu tricolore\",\n",
    "    27: \"Attention piéton\",\n",
    "    28: \"Attention enfants\",\n",
    "    29: \"Attention vélo\",\n",
    "    30: \"Attention gel\",\n",
    "    31: \"Attention animaux\",\n",
    "    32: \"Fin d'interdiction\",\n",
    "    33: \"Tourner à droite\",\n",
    "    34: \"Tourner à gauche\",\n",
    "    35: \"Continuer tout droit\",\n",
    "    36: \"Tout Droit ou Droite\",\n",
    "    37: \"Tout Droit ou Gauche\",\n",
    "    38: \"Placer vous à droite\",\n",
    "    39: \"Placer vous à gauche\",\n",
    "    40: \"Rond point\",\n",
    "    41: \"Fin Interdiction de dépasser\",\n",
    "    42: \"Fin interdiction de dépasser poids lourds\"\n",
    "}"
   ]
  },
  {
   "cell_type": "code",
   "execution_count": null,
   "metadata": {},
   "outputs": [
    {
     "name": "stdout",
     "output_type": "stream",
     "text": [
      "\u001b[1m1/1\u001b[0m \u001b[32m━━━━━━━━━━━━━━━━━━━━\u001b[0m\u001b[37m\u001b[0m \u001b[1m0s\u001b[0m 188ms/step\n",
      "Binary Model: Classified as Non-Speed Sign\n",
      "\u001b[1m1/1\u001b[0m \u001b[32m━━━━━━━━━━━━━━━━━━━━\u001b[0m\u001b[37m\u001b[0m \u001b[1m0s\u001b[0m 178ms/step\n",
      "Non-Speed Sign: Stop\n"
     ]
    },
    {
     "data": {
      "image/png": "[encoded data removed]",
      "text/plain": [
       "<Figure size 640x480 with 1 Axes>"
      ]
     },
     "metadata": {},
     "output_type": "display_data"
    }
   ],
   "source": [
    "# --- Loading models ---\n",
    "binary_model = tf.keras.models.load_model('../modelsROI/best_binary_model.keras')\n",
    "whichSpeed_model = tf.keras.models.load_model('../modelsROI/best_whichSpeed_model.keras')\n",
    "whichSign_model = tf.keras.models.load_model('../modelsROI/best_whichSign_model.keras')\n",
    "\n",
    "# --- Defining image preprocessing parameters ---\n",
    "im_height = 100  \n",
    "im_width = 100\n",
    "\n",
    "# --- Loading and preprocessing the image ---\n",
    "# img_path = \"../gtsrb-german-traffic-sign/versions/1/Meta/2.png\"  \n",
    "# img_path = \"../gtsrb-german-traffic-sign/versions/1/Meta/12.png\"  \n",
    "img_path = \"./gtsrb-german-traffic-sign/versions/1/Meta/14.png\"  \n",
    "\n",
    "img = image.load_img(img_path, target_size=(im_height, im_width))\n",
    "img_array = image.img_to_array(img) / 255.0\n",
    "img_batch = np.expand_dims(img_array, axis=0)\n",
    "\n",
    "# --- Stage 1: Binary Classification ---\n",
    "binary_pred_prob = binary_model.predict(img_batch)[0][0]\n",
    "if binary_pred_prob > 0.5:\n",
    "    print(\"Binary Model: Classified as Speed Sign\")\n",
    "    # --- Stage 2A: Which Speed Sign? ---\n",
    "    speed_pred_probs = whichSpeed_model.predict(img_batch)[0]\n",
    "    speed_pred = np.argmax(speed_pred_probs)  # Expected output range: 0 to 8\n",
    "    predicted_sign = speed_mapping.get(speed_pred, \"Unknown Speed Sign\")\n",
    "    final_result = f\"Speed Sign: {predicted_sign}\"\n",
    "else:\n",
    "    print(\"Binary Model: Classified as Non-Speed Sign\")\n",
    "    # --- Stage 2B: Which Non-Speed Sign? ---\n",
    "    others_pred_probs = whichSign_model.predict(img_batch)[0]\n",
    "    others_pred = np.argmax(others_pred_probs)  # Expected output range: 0 to (# non-speed classes - 1)\n",
    "    actual_others_class = others_pred + 9\n",
    "    predicted_sign = others_mapping.get(actual_others_class, \"Unknown Non-Speed Sign\")\n",
    "    final_result = f\"Non-Speed Sign: {predicted_sign}\"\n",
    "\n",
    "print(final_result)\n",
    "\n",
    "# --- Displaying the image with the prediction result ---\n",
    "plt.imshow(img)\n",
    "plt.title(final_result)\n",
    "plt.axis(\"off\")\n",
    "plt.show()"
   ]
  }
 ],
 "metadata": {
  "kernelspec": {
   "display_name": ".pfe",
   "language": "python",
   "name": "python3"
  },
  "language_info": {
   "codemirror_mode": {
    "name": "ipython",
    "version": 3
   },
   "file_extension": ".py",
   "mimetype": "text/x-python",
   "name": "python",
   "nbconvert_exporter": "python",
   "pygments_lexer": "ipython3",
   "version": "3.12.0"
  }
 },
 "nbformat": 4,
 "nbformat_minor": 2
}
